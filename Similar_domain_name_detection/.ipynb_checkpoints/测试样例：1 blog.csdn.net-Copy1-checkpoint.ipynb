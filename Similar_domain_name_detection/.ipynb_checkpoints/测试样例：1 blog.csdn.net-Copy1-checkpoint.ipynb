{
 "cells": [
  {
   "cell_type": "markdown",
   "id": "e871c775",
   "metadata": {},
   "source": [
    "# 代码"
   ]
  },
  {
   "cell_type": "code",
   "execution_count": 1,
   "id": "fca0d759",
   "metadata": {},
   "outputs": [],
   "source": [
    "from name_exit import *"
   ]
  },
  {
   "cell_type": "markdown",
   "id": "0db7c08b",
   "metadata": {},
   "source": [
    "# 超参数"
   ]
  },
  {
   "cell_type": "code",
   "execution_count": 2,
   "id": "60adac07",
   "metadata": {},
   "outputs": [],
   "source": [
    "args = {\n",
    "    'domain': 'https://blog.csdn.net/',\n",
    "    'option_lsh': 'ssdeep',  # 使用LSH算法评估网页相似度: ssdeep\n",
    "    'threads': 30,\n",
    "    'dns_type': 1,\n",
    "    'fuzzer_num': 600,  # 0-np.inf，inf代表输出所有的生成结果\n",
    "    'threshold_value': 0.15,\n",
    "    'tld_all': True,\n",
    "    'fuzzers': [\n",
    "#         'bitsquatting', 'vowel-swap', 'cyrillic', 'homoglyph', 'repetition',\n",
    "        'addition',\n",
    "        'hyphenation',\n",
    "        'insertion', 'omission', 'replacement',\n",
    "        'subdomain', 'transposition'\n",
    "    ],\n",
    "    'useragent': USER_AGENT_STRING,\n",
    "    'request_timeout_http': 3\n",
    "}"
   ]
  },
  {
   "cell_type": "markdown",
   "id": "cb80ecaf",
   "metadata": {},
   "source": [
    "# 主程序"
   ]
  },
  {
   "cell_type": "code",
   "execution_count": 3,
   "id": "ecdba23c",
   "metadata": {},
   "outputs": [],
   "source": [
    "import time\n",
    "\n",
    "t1=time.time()\n",
    "url = UrlParser(args['domain'])\n",
    "fuzz = fuzzer_plus.Fuzzer(domain=url.domain, tld_all=args['tld_all'], threshold_value=args['threshold_value'],\n",
    "                          top=args['fuzzer_num'])\n",
    "fuzz.generate(args['fuzzers'])\n",
    "domains = list(fuzz.domains)\n",
    "len_fuzz=len(domains)"
   ]
  },
  {
   "cell_type": "code",
   "execution_count": 4,
   "id": "5f9861b2",
   "metadata": {},
   "outputs": [
    {
     "data": {
      "text/html": [
       "<div>\n",
       "<style scoped>\n",
       "    .dataframe tbody tr th:only-of-type {\n",
       "        vertical-align: middle;\n",
       "    }\n",
       "\n",
       "    .dataframe tbody tr th {\n",
       "        vertical-align: top;\n",
       "    }\n",
       "\n",
       "    .dataframe thead th {\n",
       "        text-align: right;\n",
       "    }\n",
       "</style>\n",
       "<table border=\"1\" class=\"dataframe\">\n",
       "  <thead>\n",
       "    <tr style=\"text-align: right;\">\n",
       "      <th></th>\n",
       "      <th>fuzzer</th>\n",
       "      <th>domain</th>\n",
       "      <th>score</th>\n",
       "    </tr>\n",
       "  </thead>\n",
       "  <tbody>\n",
       "    <tr>\n",
       "      <th>0</th>\n",
       "      <td>addition</td>\n",
       "      <td>blog.cscdn.law</td>\n",
       "      <td>3.378783</td>\n",
       "    </tr>\n",
       "    <tr>\n",
       "      <th>1</th>\n",
       "      <td>addition</td>\n",
       "      <td>blog.csdnc.law</td>\n",
       "      <td>3.378783</td>\n",
       "    </tr>\n",
       "    <tr>\n",
       "      <th>2</th>\n",
       "      <td>addition</td>\n",
       "      <td>blog.ccsdn.law</td>\n",
       "      <td>3.378783</td>\n",
       "    </tr>\n",
       "    <tr>\n",
       "      <th>3</th>\n",
       "      <td>addition</td>\n",
       "      <td>blog.csdcn.law</td>\n",
       "      <td>3.378783</td>\n",
       "    </tr>\n",
       "    <tr>\n",
       "      <th>4</th>\n",
       "      <td>addition</td>\n",
       "      <td>blog.cscdn.law</td>\n",
       "      <td>3.378783</td>\n",
       "    </tr>\n",
       "    <tr>\n",
       "      <th>...</th>\n",
       "      <td>...</td>\n",
       "      <td>...</td>\n",
       "      <td>...</td>\n",
       "    </tr>\n",
       "    <tr>\n",
       "      <th>335</th>\n",
       "      <td>addition</td>\n",
       "      <td>blog.csd4.law</td>\n",
       "      <td>3.392747</td>\n",
       "    </tr>\n",
       "    <tr>\n",
       "      <th>336</th>\n",
       "      <td>addition</td>\n",
       "      <td>blog.isdn.law</td>\n",
       "      <td>3.392747</td>\n",
       "    </tr>\n",
       "    <tr>\n",
       "      <th>337</th>\n",
       "      <td>addition</td>\n",
       "      <td>blog.2sdn.law</td>\n",
       "      <td>3.392747</td>\n",
       "    </tr>\n",
       "    <tr>\n",
       "      <th>338</th>\n",
       "      <td>addition</td>\n",
       "      <td>blog.zsdn.law</td>\n",
       "      <td>3.392747</td>\n",
       "    </tr>\n",
       "    <tr>\n",
       "      <th>339</th>\n",
       "      <td>addition</td>\n",
       "      <td>blog.cfdn.law</td>\n",
       "      <td>3.392747</td>\n",
       "    </tr>\n",
       "  </tbody>\n",
       "</table>\n",
       "<p>340 rows × 3 columns</p>\n",
       "</div>"
      ],
      "text/plain": [
       "       fuzzer          domain     score\n",
       "0    addition  blog.cscdn.law  3.378783\n",
       "1    addition  blog.csdnc.law  3.378783\n",
       "2    addition  blog.ccsdn.law  3.378783\n",
       "3    addition  blog.csdcn.law  3.378783\n",
       "4    addition  blog.cscdn.law  3.378783\n",
       "..        ...             ...       ...\n",
       "335  addition   blog.csd4.law  3.392747\n",
       "336  addition   blog.isdn.law  3.392747\n",
       "337  addition   blog.2sdn.law  3.392747\n",
       "338  addition   blog.zsdn.law  3.392747\n",
       "339  addition   blog.cfdn.law  3.392747\n",
       "\n",
       "[340 rows x 3 columns]"
      ]
     },
     "execution_count": 4,
     "metadata": {},
     "output_type": "execute_result"
    }
   ],
   "source": [
    "pd.DataFrame(domains)"
   ]
  },
  {
   "cell_type": "code",
   "execution_count": 5,
   "id": "54637566",
   "metadata": {
    "scrolled": true
   },
   "outputs": [
    {
     "name": "stdout",
     "output_type": "stream",
     "text": [
      "Fuzzer耗时：0.54s\n"
     ]
    }
   ],
   "source": [
    "_ = min(args['fuzzer_num'], len(domains))\n",
    "domains = domains[:_].copy()\n",
    "t2=time.time()\n",
    "print(\"Fuzzer耗时：{:.2f}s\".format(t2-t1))"
   ]
  },
  {
   "cell_type": "code",
   "execution_count": 6,
   "id": "6ee39c48",
   "metadata": {},
   "outputs": [
    {
     "name": "stdout",
     "output_type": "stream",
     "text": [
      "文件：D:\\Desktop\\上班\\dnstwist-20230509\\Similar_domain_name_detection\\blog.csdn.net生成的混淆域名.csv保存成功\n"
     ]
    }
   ],
   "source": [
    "# t3=time.time()\n",
    "# domains = search_status_code(domains, args['request_timeout_http'], args['threads'])\n",
    "save_domains(domains, \"{}生成的混淆域名\".format(url.domain))\n",
    "# t4=time.time()\n",
    "# print(\"request发包过滤耗时：{:.2f}s\".format(t4-t3))"
   ]
  },
  {
   "cell_type": "code",
   "execution_count": 7,
   "id": "c8dfa972",
   "metadata": {},
   "outputs": [
    {
     "data": {
      "image/png": "[encoded data removed]",
      "text/plain": [
       "<Figure size 432x288 with 1 Axes>"
      ]
     },
     "metadata": {
      "needs_background": "light"
     },
     "output_type": "display_data"
    }
   ],
   "source": [
    "fuzz._make_fig(url.domain)"
   ]
  },
  {
   "cell_type": "code",
   "execution_count": 8,
   "id": "7422e576",
   "metadata": {},
   "outputs": [],
   "source": [
    "# domains = search_dns(domains, _type=args['dns_type'], tnum=args['threads'])\n",
    "# save_domains(domains, \"DNS过滤后的混淆域名\")"
   ]
  },
  {
   "cell_type": "code",
   "execution_count": 9,
   "id": "d475e725",
   "metadata": {
    "scrolled": false
   },
   "outputs": [
    {
     "name": "stdout",
     "output_type": "stream",
     "text": [
      "\n",
      "将要进行LSH检测的域名：\n",
      "\n",
      "       fuzzer          domain     score\n",
      "0    addition  blog.cscdn.law  3.378783\n",
      "1    addition  blog.csdnc.law  3.378783\n",
      "2    addition  blog.ccsdn.law  3.378783\n",
      "3    addition  blog.csdcn.law  3.378783\n",
      "4    addition  blog.cscdn.law  3.378783\n",
      "..        ...             ...       ...\n",
      "335  addition   blog.csd4.law  3.392747\n",
      "336  addition   blog.isdn.law  3.392747\n",
      "337  addition   blog.2sdn.law  3.392747\n",
      "338  addition   blog.zsdn.law  3.392747\n",
      "339  addition   blog.cfdn.law  3.392747\n",
      "\n",
      "[340 rows x 3 columns]\n",
      ">blog.cadn.win的LSH得分：0 http://blog.cadn.win\n",
      ">blog.cadn.win的LSH得分：0 http://blog.cadn.win\n",
      "文件：D:\\Desktop\\上班\\dnstwist-20230509\\Similar_domain_name_detection\\blog.csdn.netLSH过滤后的混淆域名.csv保存成功\n"
     ]
    }
   ],
   "source": [
    "t5=time.time()\n",
    "domains = LSH_alg(args['domain'], domains, args['request_timeout_http'], args['useragent'], args['option_lsh'])\n",
    "save_domains(domains, \"{}LSH过滤后的混淆域名\".format(url.domain))\n",
    "t6=time.time()\n",
    "len_lsh=len(domains)"
   ]
  },
  {
   "cell_type": "code",
   "execution_count": 10,
   "id": "11dca962",
   "metadata": {},
   "outputs": [
    {
     "data": {
      "text/html": [
       "<div>\n",
       "<style scoped>\n",
       "    .dataframe tbody tr th:only-of-type {\n",
       "        vertical-align: middle;\n",
       "    }\n",
       "\n",
       "    .dataframe tbody tr th {\n",
       "        vertical-align: top;\n",
       "    }\n",
       "\n",
       "    .dataframe thead th {\n",
       "        text-align: right;\n",
       "    }\n",
       "</style>\n",
       "<table border=\"1\" class=\"dataframe\">\n",
       "  <thead>\n",
       "    <tr style=\"text-align: right;\">\n",
       "      <th></th>\n",
       "      <th>fuzzer</th>\n",
       "      <th>domain</th>\n",
       "      <th>score</th>\n",
       "      <th>LSH_score</th>\n",
       "    </tr>\n",
       "  </thead>\n",
       "  <tbody>\n",
       "    <tr>\n",
       "      <th>0</th>\n",
       "      <td>addition</td>\n",
       "      <td>blog.cadn.win</td>\n",
       "      <td>3.392747</td>\n",
       "      <td>0</td>\n",
       "    </tr>\n",
       "    <tr>\n",
       "      <th>1</th>\n",
       "      <td>addition</td>\n",
       "      <td>blog.cadn.win</td>\n",
       "      <td>3.392747</td>\n",
       "      <td>0</td>\n",
       "    </tr>\n",
       "  </tbody>\n",
       "</table>\n",
       "</div>"
      ],
      "text/plain": [
       "     fuzzer         domain     score  LSH_score\n",
       "0  addition  blog.cadn.win  3.392747          0\n",
       "1  addition  blog.cadn.win  3.392747          0"
      ]
     },
     "execution_count": 10,
     "metadata": {},
     "output_type": "execute_result"
    }
   ],
   "source": [
    "pd.DataFrame(domains)"
   ]
  },
  {
   "cell_type": "code",
   "execution_count": 11,
   "id": "9f1c49fb",
   "metadata": {},
   "outputs": [
    {
     "name": "stdout",
     "output_type": "stream",
     "text": [
      "LSH过滤过滤耗时：283.86s\n"
     ]
    }
   ],
   "source": [
    "print(\"LSH过滤过滤耗时：{:.2f}s\".format(t6-t5))"
   ]
  },
  {
   "cell_type": "code",
   "execution_count": 12,
   "id": "4a9987fc",
   "metadata": {},
   "outputs": [
    {
     "name": "stdout",
     "output_type": "stream",
     "text": [
      "共计耗时：284.69s\n"
     ]
    }
   ],
   "source": [
    "sum_time=t6-t1\n",
    "print(\"共计耗时：{:.2f}s\".format(sum_time))"
   ]
  },
  {
   "cell_type": "markdown",
   "id": "8aaf4c32",
   "metadata": {},
   "source": [
    "# 结论"
   ]
  },
  {
   "cell_type": "code",
   "execution_count": 13,
   "id": "733ead61",
   "metadata": {},
   "outputs": [
    {
     "name": "stdout",
     "output_type": "stream",
     "text": [
      "\n",
      "1. 对域名blog.csdn.net进行探索，fuzzer生成340条域名。\n",
      "2. 取前600条进行ssdeep过滤，得到2条互联网中存活的域名，得到的结果表如下，未发现有相似的网页\n",
      "3. 共计耗时：284.69s，超参数设置如下：\n",
      "\n",
      "{'domain': 'https://blog.csdn.net/', 'option_lsh': 'ssdeep', 'threads': 30, 'dns_type': 1, 'fuzzer_num': 600, 'threshold_value': 0.15, 'tld_all': True, 'fuzzers': ['addition', 'hyphenation', 'insertion', 'omission', 'replacement', 'subdomain', 'transposition'], 'useragent': 'Mozilla/5.0 (win32 64-bit) dnstwist/20230526', 'request_timeout_http': 3}\n",
      "\n"
     ]
    }
   ],
   "source": [
    "banner='''\n",
    "1. 对域名{}进行探索，fuzzer生成{}条域名。\n",
    "2. 取前{}条进行ssdeep过滤，得到{}条互联网中存活的域名，得到的结果表如下，未发现有相似的网页\n",
    "3. 共计耗时：{:.2f}s，超参数设置如下：\\n\\n{}\n",
    "'''.format(url.domain,len_fuzz,args['fuzzer_num'],len_lsh,sum_time,args)\n",
    "print(banner)"
   ]
  },
  {
   "cell_type": "code",
   "execution_count": 14,
   "id": "fe912524",
   "metadata": {},
   "outputs": [
    {
     "data": {
      "text/html": [
       "<div>\n",
       "<style scoped>\n",
       "    .dataframe tbody tr th:only-of-type {\n",
       "        vertical-align: middle;\n",
       "    }\n",
       "\n",
       "    .dataframe tbody tr th {\n",
       "        vertical-align: top;\n",
       "    }\n",
       "\n",
       "    .dataframe thead th {\n",
       "        text-align: right;\n",
       "    }\n",
       "</style>\n",
       "<table border=\"1\" class=\"dataframe\">\n",
       "  <thead>\n",
       "    <tr style=\"text-align: right;\">\n",
       "      <th></th>\n",
       "      <th>fuzzer</th>\n",
       "      <th>domain</th>\n",
       "      <th>score</th>\n",
       "      <th>LSH_score</th>\n",
       "    </tr>\n",
       "  </thead>\n",
       "  <tbody>\n",
       "    <tr>\n",
       "      <th>0</th>\n",
       "      <td>addition</td>\n",
       "      <td>blog.cadn.win</td>\n",
       "      <td>3.392747</td>\n",
       "      <td>0</td>\n",
       "    </tr>\n",
       "    <tr>\n",
       "      <th>1</th>\n",
       "      <td>addition</td>\n",
       "      <td>blog.cadn.win</td>\n",
       "      <td>3.392747</td>\n",
       "      <td>0</td>\n",
       "    </tr>\n",
       "  </tbody>\n",
       "</table>\n",
       "</div>"
      ],
      "text/plain": [
       "     fuzzer         domain     score  LSH_score\n",
       "0  addition  blog.cadn.win  3.392747          0\n",
       "1  addition  blog.cadn.win  3.392747          0"
      ]
     },
     "execution_count": 14,
     "metadata": {},
     "output_type": "execute_result"
    }
   ],
   "source": [
    "pd.DataFrame(domains)"
   ]
  }
 ],
 "metadata": {
  "kernelspec": {
   "display_name": "Python 3",
   "language": "python",
   "name": "python3"
  },
  "language_info": {
   "codemirror_mode": {
    "name": "ipython",
    "version": 3
   },
   "file_extension": ".py",
   "mimetype": "text/x-python",
   "name": "python",
   "nbconvert_exporter": "python",
   "pygments_lexer": "ipython3",
   "version": "3.7.6"
  },
  "toc": {
   "base_numbering": 1,
   "nav_menu": {},
   "number_sections": true,
   "sideBar": true,
   "skip_h1_title": false,
   "title_cell": "Table of Contents",
   "title_sidebar": "Contents",
   "toc_cell": false,
   "toc_position": {
    "height": "calc(100% - 180px)",
    "left": "10px",
    "top": "150px",
    "width": "174.312px"
   },
   "toc_section_display": true,
   "toc_window_display": true
  }
 },
 "nbformat": 4,
 "nbformat_minor": 5
}
