{
 "cells": [
  {
   "cell_type": "markdown",
   "id": "e871c775",
   "metadata": {},
   "source": [
    "# 代码"
   ]
  },
  {
   "cell_type": "code",
   "execution_count": 1,
   "id": "d94c6b1f",
   "metadata": {},
   "outputs": [],
   "source": [
    "from name_exist import *"
   ]
  },
  {
   "cell_type": "markdown",
   "id": "0db7c08b",
   "metadata": {},
   "source": [
    "# 超参数"
   ]
  },
  {
   "cell_type": "code",
   "execution_count": 2,
   "id": "60adac07",
   "metadata": {},
   "outputs": [],
   "source": [
    "args = {\n",
    "    'domain': 'https://blog.csdn.net/',\n",
    "    'option_lsh': 'ssdeep',  # 使用LSH算法评估网页相似度: ssdeep\n",
    "    'threads': 30,\n",
    "    'dns_type': 1,\n",
    "    'fuzzer_num': 500 , # 0-np.inf，inf代表输出所有的生成结果\n",
    "    'threshold_value': 0.15,\n",
    "    'tld_all': True,\n",
    "    'fuzzers': [\n",
    "#         'bitsquatting', 'vowel-swap', 'cyrillic', 'homoglyph', 'repetition','various'\n",
    "        'addition',\n",
    "        'hyphenation',\n",
    "        'insertion', 'omission', 'replacement',\n",
    "        'subdomain', 'transposition'\n",
    "    ],\n",
    "    'useragent': USER_AGENT_STRING,\n",
    "    'request_timeout_http': 1.5\n",
    "}"
   ]
  },
  {
   "cell_type": "markdown",
   "id": "cb80ecaf",
   "metadata": {},
   "source": [
    "# 主程序"
   ]
  },
  {
   "cell_type": "code",
   "execution_count": 3,
   "id": "02201abc",
   "metadata": {},
   "outputs": [],
   "source": [
    "import time\n",
    "\n",
    "t1=time.time()\n",
    "url = UrlParser(args['domain'])\n",
    "fuzz = fuzzer_plus.Fuzzer(domain=url.domain, tld_all=args['tld_all'], threshold_value=args['threshold_value'],\n",
    "                          top=args['fuzzer_num'])\n",
    "fuzz.generate(args['fuzzers'])\n",
    "domains = list(fuzz.domains_tld)\n",
    "len_fuzz=len(domains)"
   ]
  },
  {
   "cell_type": "code",
   "execution_count": 4,
   "id": "5f9861b2",
   "metadata": {},
   "outputs": [
    {
     "data": {
      "text/html": [
       "<div>\n",
       "<style scoped>\n",
       "    .dataframe tbody tr th:only-of-type {\n",
       "        vertical-align: middle;\n",
       "    }\n",
       "\n",
       "    .dataframe tbody tr th {\n",
       "        vertical-align: top;\n",
       "    }\n",
       "\n",
       "    .dataframe thead th {\n",
       "        text-align: right;\n",
       "    }\n",
       "</style>\n",
       "<table border=\"1\" class=\"dataframe\">\n",
       "  <thead>\n",
       "    <tr style=\"text-align: right;\">\n",
       "      <th></th>\n",
       "      <th>fuzzer</th>\n",
       "      <th>domain</th>\n",
       "      <th>score</th>\n",
       "    </tr>\n",
       "  </thead>\n",
       "  <tbody>\n",
       "    <tr>\n",
       "      <th>0</th>\n",
       "      <td>addition</td>\n",
       "      <td>blog.csndn.net</td>\n",
       "      <td>1.921928</td>\n",
       "    </tr>\n",
       "    <tr>\n",
       "      <th>1</th>\n",
       "      <td>addition</td>\n",
       "      <td>blog.csdnn.net</td>\n",
       "      <td>1.921928</td>\n",
       "    </tr>\n",
       "    <tr>\n",
       "      <th>2</th>\n",
       "      <td>addition</td>\n",
       "      <td>blog.csdcn.net</td>\n",
       "      <td>1.921928</td>\n",
       "    </tr>\n",
       "    <tr>\n",
       "      <th>3</th>\n",
       "      <td>addition</td>\n",
       "      <td>blog.cssdn.net</td>\n",
       "      <td>1.921928</td>\n",
       "    </tr>\n",
       "    <tr>\n",
       "      <th>4</th>\n",
       "      <td>addition</td>\n",
       "      <td>blog.ncsdn.net</td>\n",
       "      <td>1.921928</td>\n",
       "    </tr>\n",
       "    <tr>\n",
       "      <th>...</th>\n",
       "      <td>...</td>\n",
       "      <td>...</td>\n",
       "      <td>...</td>\n",
       "    </tr>\n",
       "    <tr>\n",
       "      <th>3634</th>\n",
       "      <td>tld-swap</td>\n",
       "      <td>blog.dcsdn.COM</td>\n",
       "      <td>3.521641</td>\n",
       "    </tr>\n",
       "    <tr>\n",
       "      <th>3635</th>\n",
       "      <td>tld-swap</td>\n",
       "      <td>blog.scsdn.COM</td>\n",
       "      <td>3.521641</td>\n",
       "    </tr>\n",
       "    <tr>\n",
       "      <th>3636</th>\n",
       "      <td>tld-swap</td>\n",
       "      <td>blog.cssdn.COM</td>\n",
       "      <td>3.521641</td>\n",
       "    </tr>\n",
       "    <tr>\n",
       "      <th>3637</th>\n",
       "      <td>tld-swap</td>\n",
       "      <td>blog.cnsdn.COM</td>\n",
       "      <td>3.521641</td>\n",
       "    </tr>\n",
       "    <tr>\n",
       "      <th>3638</th>\n",
       "      <td>tld-swap</td>\n",
       "      <td>blog.csddn.COM</td>\n",
       "      <td>3.521641</td>\n",
       "    </tr>\n",
       "  </tbody>\n",
       "</table>\n",
       "<p>3639 rows × 3 columns</p>\n",
       "</div>"
      ],
      "text/plain": [
       "        fuzzer          domain     score\n",
       "0     addition  blog.csndn.net  1.921928\n",
       "1     addition  blog.csdnn.net  1.921928\n",
       "2     addition  blog.csdcn.net  1.921928\n",
       "3     addition  blog.cssdn.net  1.921928\n",
       "4     addition  blog.ncsdn.net  1.921928\n",
       "...        ...             ...       ...\n",
       "3634  tld-swap  blog.dcsdn.COM  3.521641\n",
       "3635  tld-swap  blog.scsdn.COM  3.521641\n",
       "3636  tld-swap  blog.cssdn.COM  3.521641\n",
       "3637  tld-swap  blog.cnsdn.COM  3.521641\n",
       "3638  tld-swap  blog.csddn.COM  3.521641\n",
       "\n",
       "[3639 rows x 3 columns]"
      ]
     },
     "execution_count": 4,
     "metadata": {},
     "output_type": "execute_result"
    }
   ],
   "source": [
    "pd.DataFrame(domains)"
   ]
  },
  {
   "cell_type": "code",
   "execution_count": 5,
   "id": "54637566",
   "metadata": {
    "scrolled": true
   },
   "outputs": [
    {
     "name": "stdout",
     "output_type": "stream",
     "text": [
      "Fuzzer耗时：0.44s\n"
     ]
    }
   ],
   "source": [
    "_ = min(args['fuzzer_num'], len(domains))\n",
    "domains = domains[:_].copy()\n",
    "t2=time.time()\n",
    "print(\"Fuzzer耗时：{:.2f}s\".format(t2-t1))"
   ]
  },
  {
   "cell_type": "code",
   "execution_count": 6,
   "id": "6ee39c48",
   "metadata": {},
   "outputs": [
    {
     "name": "stdout",
     "output_type": "stream",
     "text": [
      "文件：D:\\Desktop\\上班\\dnstwist-20230509\\Similar_domain_name_detection\\example\\file\\blog.csdn.net生成的混淆域名.csv保存成功\n"
     ]
    }
   ],
   "source": [
    "# t3=time.time()\n",
    "# domains = search_status_code(domains, args['request_timeout_http'], args['threads'])\n",
    "save_domains(domains, \"{}生成的混淆域名\".format(url.domain))\n",
    "# t4=time.time()\n",
    "# print(\"request发包过滤耗时：{:.2f}s\".format(t4-t3))"
   ]
  },
  {
   "cell_type": "code",
   "execution_count": 7,
   "id": "c8dfa972",
   "metadata": {},
   "outputs": [
    {
     "data": {
      "image/png": "[encoded data removed]",
      "text/plain": [
       "<Figure size 432x288 with 1 Axes>"
      ]
     },
     "metadata": {
      "needs_background": "light"
     },
     "output_type": "display_data"
    }
   ],
   "source": [
    "fuzz._make_fig(url.domain)"
   ]
  },
  {
   "cell_type": "code",
   "execution_count": 8,
   "id": "7422e576",
   "metadata": {},
   "outputs": [],
   "source": [
    "# domains = search_dns(domains, _type=args['dns_type'], tnum=args['threads'])\n",
    "# save_domains(domains, \"DNS过滤后的混淆域名\")"
   ]
  },
  {
   "cell_type": "code",
   "execution_count": 9,
   "id": "d475e725",
   "metadata": {
    "scrolled": false
   },
   "outputs": [
    {
     "name": "stdout",
     "output_type": "stream",
     "text": [
      "\n",
      "将要进行LSH检测的域名：\n",
      "\n",
      "       fuzzer          domain     score\n",
      "0    addition  blog.csndn.net  1.921928\n",
      "1    addition  blog.csdnn.net  1.921928\n",
      "2    addition  blog.csdcn.net  1.921928\n",
      "3    addition  blog.cssdn.net  1.921928\n",
      "4    addition  blog.ncsdn.net  1.921928\n",
      "..        ...             ...       ...\n",
      "495  tld-swap  blog.ndsc.guru  3.378783\n",
      "496  tld-swap  blog.dcsn.guru  3.378783\n",
      "497  tld-swap  blog.cspn.guru  3.378783\n",
      "498  tld-swap  blog.csd3.guru  3.378783\n",
      "499  tld-swap  blog.c2dn.guru  3.378783\n",
      "\n",
      "[500 rows x 3 columns]\n",
      ">blog.cfdn.net查询出错：HTTP Error 404: Not Found\n",
      ">blog.asdn.guru查询出错：<urlopen error [Errno 11002] getaddrinfo failed>\n",
      ">blog.csen.net查询出错：HTTP Error 403: Forbidden\n",
      ">blog.tsdn.net查询出错：HTTP Error 404: Not Found\n",
      ">blog.ccsdn.net查询出错：<urlopen error timed out>\n",
      ">blog.csrn.net查询出错：HTTP Error 404: Not Found\n",
      ">blog.csin.net的LSH得分：0 http://blog.csin.net\n",
      ">blog.cnsdn.net查询出错：timed out\n",
      ">blog.sncd.net查询出错：HTTP Error 404: Not Found\n",
      ">blog.cbdn.net查询出错：<urlopen error [Errno 11002] getaddrinfo failed>\n",
      ">blog.cedn.net的LSH得分：0 http://blog.cedn.net\n",
      ">blog.cdns.net查询出错：HTTP Error 403: Forbidden\n",
      ">blog.csda.net查询出错：<urlopen error [Errno 11002] getaddrinfo failed>\n",
      ">blog.cnds.net查询出错：HTTP Error 404: Not Found\n",
      ">blog.sdnc.net查询出错：HTTP Error 404: Not Found\n",
      ">blog.sdcn.net查询出错：[WinError 10054] 远程主机强迫关闭了一个现有的连接。\n",
      ">blog.c3dn.net的LSH得分：0 http://ww1.c3dn.net/?sub1=6ebf8c14-05aa-11ee-b91f-98311cbae787\n",
      ">blog.csdn.net的LSH得分：68 https://blog.csdn.net/\n",
      ">blog.csdk.net查询出错：HTTP Error 404: Not Found\n",
      ">blog.dcsn.net的LSH得分：0 http://blog.dcsn.net\n",
      ">blog.chdn.net的LSH得分：0 http://blog.chdn.net\n",
      ">blog.csjn.net查询出错：timed out\n",
      ">blog.dcns.net查询出错：HTTP Error 404: Not Found\n",
      ">blog.3sdn.net的LSH得分：0 http://blog.3sdn.net\n",
      ">blog.csdp.net查询出错：HTTP Error 404: Not Found\n",
      ">blog.cqdn.net查询出错：<urlopen error timed out>\n",
      ">blog.csdu.net查询出错：HTTP Error 404: Not Found\n",
      ">blog.cson.net查询出错：HTTP Error 403: Forbidden\n",
      ">blog.csdl.net查询出错：HTTP Error 404: Not Found\n",
      ">blog.csun.net查询出错：HTTP Error 404: Not Found\n",
      ">blog.csdw.net查询出错：<urlopen error timed out>\n",
      ">blog.csdt.net的LSH得分：0 http://blog.csdt.net\n",
      ">blog.hsdn.net的LSH得分：0 https://blog.hsdn.net/\n",
      ">blog.csde.net查询出错：HTTP Error 404: Not Found\n",
      ">blog.xsdn.net查询出错：<urlopen error [Errno 11002] getaddrinfo failed>\n",
      ">blog.xsdn.net查询出错：<urlopen error [Errno 11002] getaddrinfo failed>\n",
      ">blog.xsdn.net查询出错：<urlopen error [Errno 11002] getaddrinfo failed>\n",
      ">blog.xsdn.net查询出错：<urlopen error [Errno 11002] getaddrinfo failed>\n",
      ">blog.cldn.net查询出错：<urlopen error [Errno 11002] getaddrinfo failed>\n",
      ">blog.csdz.net查询出错：<urlopen error [Errno 11002] getaddrinfo failed>\n",
      ">blog.cedn.net的LSH得分：0 http://blog.cedn.net\n",
      ">blog.ndcs.net查询出错：HTTP Error 403: Forbidden\n",
      ">blog.csdns.fun的LSH得分：0 http://blog.csdns.fun\n",
      ">blog.cedn.net的LSH得分：0 http://blog.cedn.net\n",
      ">blog.dsnc.net查询出错：<urlopen error no host given>\n",
      ">blog.ndsc.net查询出错：HTTP Error 404: Not Found\n",
      ">blog.cedn.net的LSH得分：0 http://blog.cedn.net\n",
      ">blog.dscn.net查询出错：HTTP Error 403: Forbidden\n",
      ">blog.cqdn.net查询出错：<urlopen error timed out>\n",
      ">blog.csrn.net查询出错：HTTP Error 404: Not Found\n",
      ">blog.cskn.net查询出错：timed out\n",
      ">blog.csen.net查询出错：HTTP Error 403: Forbidden\n",
      ">blog.bsdn.net的LSH得分：0 http://blog.bsdn.net\n",
      ">blog.csrn.net查询出错：HTTP Error 404: Not Found\n",
      ">blog.cswn.net的LSH得分：-1 http://blog.cswn.net\n",
      ">blog.csen.net查询出错：HTTP Error 403: Forbidden\n",
      ">blog.csrn.net查询出错：HTTP Error 404: Not Found\n",
      ">blog.csen.net查询出错：HTTP Error 403: Forbidden\n",
      ">blog.csdb.net的LSH得分：0 http://blog.csdb.net\n",
      ">blog.csdh.net查询出错：HTTP Error 308: Permanent Redirect\n",
      ">blog.cszn.net查询出错：<urlopen error [Errno 11002] getaddrinfo failed>\n",
      ">blog.csdb.net的LSH得分：0 http://blog.csdb.net\n",
      ">blog.csdh.net查询出错：HTTP Error 308: Permanent Redirect\n",
      ">blog.csdh.net查询出错：HTTP Error 308: Permanent Redirect\n",
      ">blog.nsdc.net查询出错：<urlopen error [WinError 10054] 远程主机强迫关闭了一个现有的连接。>\n",
      ">blog.csdb.net的LSH得分：0 http://blog.csdb.net\n",
      ">blog.csdh.net查询出错：HTTP Error 308: Permanent Redirect\n",
      ">blog.cudn.net查询出错：HTTP Error 404: Not Found\n",
      ">blog.scdn.net的LSH得分：0 http://blog.scdn.net\n",
      ">blog.ysdn.net的LSH得分：0 http://blog.ysdn.net\n",
      ">blog.csbn.net的LSH得分：0 http://blog.csbn.net\n",
      ">blog.zsdn.coop查询出错：<urlopen error [Errno 11002] getaddrinfo failed>\n",
      ">blog.ctdn.net查询出错：HTTP Error 404: Not Found\n",
      ">blog.scdn.net的LSH得分：0 http://blog.scdn.net\n",
      ">blog.csdb.net的LSH得分：0 http://blog.csdb.net\n",
      ">blog.csmn.net查询出错：<urlopen error [WinError 10054] 远程主机强迫关闭了一个现有的连接。>\n",
      ">blog.esdn.net查询出错：HTTP Error 403: Forbidden\n",
      "文件：D:\\Desktop\\上班\\dnstwist-20230509\\Similar_domain_name_detection\\example\\file\\blog.csdn.netLSH过滤后的混淆域名.csv保存成功\n"
     ]
    }
   ],
   "source": [
    "t5=time.time()\n",
    "domains = LSH_alg(args['domain'], domains, args['request_timeout_http'], args['useragent'], args['option_lsh'])\n",
    "save_domains(domains, \"{}LSH过滤后的混淆域名\".format(url.domain))\n",
    "t6=time.time()\n",
    "len_lsh=len(domains)"
   ]
  },
  {
   "cell_type": "code",
   "execution_count": 10,
   "id": "fe912524",
   "metadata": {},
   "outputs": [
    {
     "data": {
      "text/html": [
       "<div>\n",
       "<style scoped>\n",
       "    .dataframe tbody tr th:only-of-type {\n",
       "        vertical-align: middle;\n",
       "    }\n",
       "\n",
       "    .dataframe tbody tr th {\n",
       "        vertical-align: top;\n",
       "    }\n",
       "\n",
       "    .dataframe thead th {\n",
       "        text-align: right;\n",
       "    }\n",
       "</style>\n",
       "<table border=\"1\" class=\"dataframe\">\n",
       "  <thead>\n",
       "    <tr style=\"text-align: right;\">\n",
       "      <th></th>\n",
       "      <th>fuzzer</th>\n",
       "      <th>domain</th>\n",
       "      <th>score</th>\n",
       "      <th>LSH_score</th>\n",
       "    </tr>\n",
       "  </thead>\n",
       "  <tbody>\n",
       "    <tr>\n",
       "      <th>0</th>\n",
       "      <td>addition</td>\n",
       "      <td>blog.cfdn.net</td>\n",
       "      <td>2.000000</td>\n",
       "      <td>HTTP Error 404: Not Found</td>\n",
       "    </tr>\n",
       "    <tr>\n",
       "      <th>1</th>\n",
       "      <td>tld-swap</td>\n",
       "      <td>blog.asdn.guru</td>\n",
       "      <td>3.378783</td>\n",
       "      <td>&lt;urlopen error [Errno 11002] getaddrinfo failed&gt;</td>\n",
       "    </tr>\n",
       "    <tr>\n",
       "      <th>2</th>\n",
       "      <td>addition</td>\n",
       "      <td>blog.csen.net</td>\n",
       "      <td>2.000000</td>\n",
       "      <td>HTTP Error 403: Forbidden</td>\n",
       "    </tr>\n",
       "    <tr>\n",
       "      <th>3</th>\n",
       "      <td>addition</td>\n",
       "      <td>blog.tsdn.net</td>\n",
       "      <td>2.000000</td>\n",
       "      <td>HTTP Error 404: Not Found</td>\n",
       "    </tr>\n",
       "    <tr>\n",
       "      <th>4</th>\n",
       "      <td>addition</td>\n",
       "      <td>blog.ccsdn.net</td>\n",
       "      <td>1.921928</td>\n",
       "      <td>&lt;urlopen error timed out&gt;</td>\n",
       "    </tr>\n",
       "    <tr>\n",
       "      <th>...</th>\n",
       "      <td>...</td>\n",
       "      <td>...</td>\n",
       "      <td>...</td>\n",
       "      <td>...</td>\n",
       "    </tr>\n",
       "    <tr>\n",
       "      <th>72</th>\n",
       "      <td>addition</td>\n",
       "      <td>blog.ctdn.net</td>\n",
       "      <td>2.000000</td>\n",
       "      <td>HTTP Error 404: Not Found</td>\n",
       "    </tr>\n",
       "    <tr>\n",
       "      <th>73</th>\n",
       "      <td>addition</td>\n",
       "      <td>blog.scdn.net</td>\n",
       "      <td>2.000000</td>\n",
       "      <td>0</td>\n",
       "    </tr>\n",
       "    <tr>\n",
       "      <th>74</th>\n",
       "      <td>addition</td>\n",
       "      <td>blog.csdb.net</td>\n",
       "      <td>2.000000</td>\n",
       "      <td>0</td>\n",
       "    </tr>\n",
       "    <tr>\n",
       "      <th>75</th>\n",
       "      <td>addition</td>\n",
       "      <td>blog.csmn.net</td>\n",
       "      <td>2.000000</td>\n",
       "      <td>&lt;urlopen error [WinError 10054] 远程主机强迫关闭了一个现有的...</td>\n",
       "    </tr>\n",
       "    <tr>\n",
       "      <th>76</th>\n",
       "      <td>addition</td>\n",
       "      <td>blog.esdn.net</td>\n",
       "      <td>2.000000</td>\n",
       "      <td>HTTP Error 403: Forbidden</td>\n",
       "    </tr>\n",
       "  </tbody>\n",
       "</table>\n",
       "<p>77 rows × 4 columns</p>\n",
       "</div>"
      ],
      "text/plain": [
       "      fuzzer          domain     score  \\\n",
       "0   addition   blog.cfdn.net  2.000000   \n",
       "1   tld-swap  blog.asdn.guru  3.378783   \n",
       "2   addition   blog.csen.net  2.000000   \n",
       "3   addition   blog.tsdn.net  2.000000   \n",
       "4   addition  blog.ccsdn.net  1.921928   \n",
       "..       ...             ...       ...   \n",
       "72  addition   blog.ctdn.net  2.000000   \n",
       "73  addition   blog.scdn.net  2.000000   \n",
       "74  addition   blog.csdb.net  2.000000   \n",
       "75  addition   blog.csmn.net  2.000000   \n",
       "76  addition   blog.esdn.net  2.000000   \n",
       "\n",
       "                                            LSH_score  \n",
       "0                           HTTP Error 404: Not Found  \n",
       "1    <urlopen error [Errno 11002] getaddrinfo failed>  \n",
       "2                           HTTP Error 403: Forbidden  \n",
       "3                           HTTP Error 404: Not Found  \n",
       "4                           <urlopen error timed out>  \n",
       "..                                                ...  \n",
       "72                          HTTP Error 404: Not Found  \n",
       "73                                                  0  \n",
       "74                                                  0  \n",
       "75  <urlopen error [WinError 10054] 远程主机强迫关闭了一个现有的...  \n",
       "76                          HTTP Error 403: Forbidden  \n",
       "\n",
       "[77 rows x 4 columns]"
      ]
     },
     "execution_count": 10,
     "metadata": {},
     "output_type": "execute_result"
    }
   ],
   "source": [
    "pd.DataFrame(domains)"
   ]
  },
  {
   "cell_type": "code",
   "execution_count": 11,
   "id": "9f1c49fb",
   "metadata": {},
   "outputs": [
    {
     "name": "stdout",
     "output_type": "stream",
     "text": [
      "LSH过滤过滤耗时：729.43s\n"
     ]
    }
   ],
   "source": [
    "print(\"LSH过滤过滤耗时：{:.2f}s\".format(t6-t5))"
   ]
  },
  {
   "cell_type": "code",
   "execution_count": 12,
   "id": "f3ed7fb2",
   "metadata": {},
   "outputs": [
    {
     "name": "stdout",
     "output_type": "stream",
     "text": [
      "共计耗时：730.25s\n"
     ]
    }
   ],
   "source": [
    "sum_time=t6-t1\n",
    "print(\"共计耗时：{:.2f}s\".format(t6-t1))"
   ]
  },
  {
   "cell_type": "code",
   "execution_count": 18,
   "id": "afed6c48",
   "metadata": {},
   "outputs": [
    {
     "name": "stdout",
     "output_type": "stream",
     "text": [
      "\n",
      "1. 对域名blog.csdn.net进行探索，fuzzer生成3639条域名\n",
      "2. 取前500条进行ssdeep过滤，得到77条互联网中存活的域名，均未发现有相似的网页\n",
      "3. 共计耗时：730.2514135837555s ，超参数设置如下：\n",
      "\n",
      "{'domain': 'https://blog.csdn.net/', 'option_lsh': 'ssdeep', 'threads': 30, 'dns_type': 1, 'fuzzer_num': 500, 'threshold_value': 0.15, 'tld_all': True, 'fuzzers': ['addition', 'hyphenation', 'insertion', 'omission', 'replacement', 'subdomain', 'transposition'], 'useragent': 'Mozilla/5.0 (win32 64-bit) dnstwist/20230526', 'request_timeout_http': 1.5}\n",
      "\n"
     ]
    }
   ],
   "source": [
    "banner='''\n",
    "1. 对域名{}进行探索，fuzzer生成{}条域名\n",
    "2. 取前{}条进行ssdeep过滤，得到{}条互联网中存活的域名，均未发现有相似的网页\n",
    "3. 共计耗时：{}s ，超参数设置如下：\\n\\n{}\n",
    "'''.format(url.domain,len_fuzz,args['fuzzer_num'],len_lsh,sum_time,args)\n",
    "print(banner)"
   ]
  }
 ],
 "metadata": {
  "kernelspec": {
   "display_name": "Python 3",
   "language": "python",
   "name": "python3"
  },
  "language_info": {
   "codemirror_mode": {
    "name": "ipython",
    "version": 3
   },
   "file_extension": ".py",
   "mimetype": "text/x-python",
   "name": "python",
   "nbconvert_exporter": "python",
   "pygments_lexer": "ipython3",
   "version": "3.7.6"
  },
  "toc": {
   "base_numbering": 1,
   "nav_menu": {},
   "number_sections": true,
   "sideBar": true,
   "skip_h1_title": false,
   "title_cell": "Table of Contents",
   "title_sidebar": "Contents",
   "toc_cell": false,
   "toc_position": {
    "height": "calc(100% - 180px)",
    "left": "10px",
    "top": "150px",
    "width": "195.3px"
   },
   "toc_section_display": true,
   "toc_window_display": true
  }
 },
 "nbformat": 4,
 "nbformat_minor": 5
}
